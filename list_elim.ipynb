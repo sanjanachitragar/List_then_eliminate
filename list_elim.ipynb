{
  "nbformat": 4,
  "nbformat_minor": 0,
  "metadata": {
    "colab": {
      "provenance": []
    },
    "kernelspec": {
      "name": "python3",
      "display_name": "Python 3"
    },
    "language_info": {
      "name": "python"
    }
  },
  "cells": [
    {
      "cell_type": "code",
      "execution_count": null,
      "metadata": {
        "colab": {
          "base_uri": "https://localhost:8080/"
        },
        "id": "V4_fnCiIMh0f",
        "outputId": "cd5e56c1-2eda-4258-d7c6-ef623a8fe57b"
      },
      "outputs": [
        {
          "output_type": "stream",
          "name": "stdout",
          "text": [
            "     sky airtemp humidity    wind water forecast enjoysport\n",
            "0  sunny    warm   normal  strong  warm     same        yes\n",
            "1  sunny    warm     high  strong  warm     same        yes\n",
            "2  rainy    cold     high  strong  warm   change         no\n",
            "3  sunny    warm     high  strong  cool   change        yes\n",
            "4  rainy    cold     high  strong  cool   change         no\n",
            "5  sunny    warm   normal  strong  cool     same        yes\n",
            "([{'hypothesis': ['?', '?', 'normal', '?', '?'], 'outcome': 'yes'}, {'hypothesis': ['sunny', 'high', '?', '?', '?'], 'outcome': 'yes'}, {'hypothesis': ['rainy', '?', 'ok', '?', '?'], 'outcome': 'no'}, {'hypothesis': ['rainy', 'warm', 'high', '?', '?'], 'outcome': 'yes'}, {'hypothesis': ['?', 'cold', '?', 'cool', '?'], 'outcome': 'no'}, {'hypothesis': ['?', '?', '?', 'cool', '?'], 'outcome': 'yes'}], [])\n"
          ]
        }
      ],
      "source": [
        "import pandas as pd\n",
        "\n",
        "data = pd.read_csv(\"1weather_dataset.csv\")\n",
        "\n",
        "data.head(10)                                   #first ten rows\n",
        "print (data);\n",
        "\n",
        "def package_hypothesis(hypothesis, outcome):\n",
        "  ln = dict()                                #creates a dictionary named ln with keys 'hypothesis' and 'outcome' and assigns respective values.\n",
        "\n",
        "  ln['hypothesis'] = hypothesis\n",
        "  ln['outcome'] = outcome\n",
        "  return ln\n",
        "\n",
        "#Test hypothesises\n",
        "h1 = package_hypothesis([\"?\",\"?\",\"normal\",\"?\",\"?\"],\"yes\")\n",
        "h2 = package_hypothesis([\"sunny\",\"high\",\"?\",\"?\",\"?\"],\"yes\")\n",
        "h3 = package_hypothesis([\"rainy\",\"?\",\"ok\",\"?\",\"?\"],\"no\")\n",
        "h4 = package_hypothesis([\"rainy\",\"warm\",\"high\",\"?\",\"?\"],\"yes\")\n",
        "h5 = package_hypothesis([\"?\",\"cold\",\"?\",\"cool\",\"?\"],\"no\")\n",
        "h6 = package_hypothesis([\"?\",\"?\",\"?\",\"cool\",\"?\"],\"yes\")\n",
        "\n",
        "def compare(hypo, values):                      # iterates over the hypothesis and the values  and compares each value.\n",
        "  for i in range(len(values)):           #\"values\" refers to the attribute values from the dataset that are being compared with the hypothesis.\n",
        "    if(hypo[i] != \"?\"):                               # If a non-'?' value in the hypothesis\n",
        "      if(values[i] != hypo[i]):                           #does not match the corresponding value in the values,\n",
        "        return False                                      # it returns False.\n",
        "  return True                                         #If all values match or the corresponding value in the hypothesis is '?', it returns True.\n",
        "\n",
        "def list_then_eliminate(data, *hypothesis):\n",
        "  consistent_space = []                              #two lists\n",
        "  inconsistent_space = []\n",
        "\n",
        "  for hyp in hypothesis:                                 #iterates over each hypothesis in the input arguments\n",
        "    state = True                                            #For each hypothesis, it sets the state variable to True.\n",
        "\n",
        "    for i in range(data.shape[0]):                                                           #iterates over each row of the 'data' data frame using the range(data.shape[0])\n",
        "\n",
        "      if(hyp['outcome'] == data.iloc[i,-1]):                                                   #If the outcome of the hypothesis matches the outcome in the current row\n",
        "\n",
        "        if(not compare(hypo = hyp['hypothesis'], values = list(data.iloc[i,:-1])[:-1])):     #it calls compare function to compare hypothesis values with values in row (excluding last column,list(data.iloc[i,:-1])[:-1]))\n",
        "#                                                                                              If the compare function returns False, indicating inconsistency,\n",
        "          inconsistent_space.append(hyp)                                                       #the hypothesis is appended to the inconsistent_space list\n",
        "          state = False                                                                                #state variable is set to False, and the loop breaks.\n",
        "          break\n",
        "\n",
        "    if(state):                                                         #If the state variable is still True after iterating through all rows, it means the hypothesis is consistent\n",
        "      consistent_space.append(hyp)                                          #and it is appended to the consistent_space list.\n",
        "\n",
        "  return (inconsistent_space, consistent_space)                      #returns a tuple containing the inconsistent_space and consistent_space lists.\n",
        "\n",
        "print (list_then_eliminate(data, h1,h2,h3,h4,h5,h6));"
      ]
    }
  ]
}